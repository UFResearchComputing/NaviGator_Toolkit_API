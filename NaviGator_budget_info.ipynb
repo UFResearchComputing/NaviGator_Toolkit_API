{
 "cells": [
  {
   "cell_type": "markdown",
   "id": "ff19f495-59af-474f-a381-d7d78ad4a570",
   "metadata": {},
   "source": [
    "\n",
    "# NaviGator Toolkit API test\n",
    "\n",
    "This notebook is designed to test connection to the NaviGator Toolkit API ([see here for more information](https://it.ufl.edu/ai/navigator-toolkit/)). You will need a NaviGator API key. The key should be stored in a `.json` file with the following format:\n",
    "\n",
    "    {\n",
    "      \"OPENAI_API_KEY\" : \"Put your key here in the quotes\",\n",
    "      \"base_url\" : \"https://api.ai.it.ufl.edu/\"\n",
    "    }\n",
    "\n",
    "We suggest putting that in your home directory, to minimize the chances of accidentally adding and committing the file to a git repo. Remember that anyone with your API key can use NaviGator as you! "
   ]
  },
  {
   "cell_type": "code",
   "execution_count": 1,
   "id": "9ba376d4-d4f1-4e48-a7c0-3ca4a7c144c0",
   "metadata": {
    "tags": []
   },
   "outputs": [],
   "source": [
    "import openai\n",
    "import os\n",
    "import json\n",
    "import subprocess"
   ]
  },
  {
   "cell_type": "markdown",
   "id": "b0742a36-ccf5-4d0c-9c71-f2ba7b7735cb",
   "metadata": {},
   "source": [
    "## Load `.json` file with your key and api endpoint URL"
   ]
  },
  {
   "cell_type": "code",
   "execution_count": 2,
   "id": "a1742595-a563-4065-be5a-2b08107bdbe1",
   "metadata": {
    "tags": []
   },
   "outputs": [],
   "source": [
    "# Set the path to your jsnkey file\n",
    "key_file = '/home/magitz/navigator_api_keys.json'\n",
    "\n",
    "\n",
    "# Load the JSON file\n",
    "with open(key_file, 'r') as file:\n",
    "    data = json.load(file)\n",
    "\n",
    "# Extract the values\n",
    "OPENAI_API_KEY = data.get('OPENAI_API_KEY')\n",
    "base_url = data.get('base_url')\n",
    "\n",
    "# Set the environment variable\n",
    "os.environ['TOOLKIT_API_KEY'] = OPENAI_API_KEY\n"
   ]
  },
  {
   "cell_type": "markdown",
   "id": "05900196-4d7d-4dea-8b6a-9c119bfd3035",
   "metadata": {},
   "source": [
    "## Test connectivity and get model list\n",
    "\n",
    "Reply should list the models that are available with your API key. An example, truncated, output is:\n",
    "\n",
    "    SyncPage[Model](data=[Model(id='llama-3.1-70b-instruct', created=1677610602, object='model', owned_by='openai'), Model(id='sfr-embedding-mistral', created=1677610602, object='model', owned_by='openai'),...)], object='list')"
   ]
  },
  {
   "cell_type": "code",
   "execution_count": 3,
   "id": "2ea3baa5-eea7-46f3-aa91-753907b44ad7",
   "metadata": {
    "tags": []
   },
   "outputs": [
    {
     "name": "stdout",
     "output_type": "stream",
     "text": [
      "SyncPage[Model](data=[Model(id='llama-3.3-70b-instruct', created=1677610602, object='model', owned_by='openai'), Model(id='nim-llama-3.1-8b-instruct', created=1677610602, object='model', owned_by='openai'), Model(id='llama-3.1-8b-instruct', created=1677610602, object='model', owned_by='openai'), Model(id='whisper-large-v3', created=1677610602, object='model', owned_by='openai'), Model(id='sfr-embedding-mistral', created=1677610602, object='model', owned_by='openai'), Model(id='flux.1-dev', created=1677610602, object='model', owned_by='openai'), Model(id='mixtral-8x7b-instruct', created=1677610602, object='model', owned_by='openai'), Model(id='llama-3.1-70b-instruct', created=1677610602, object='model', owned_by='openai'), Model(id='nomic-embed-text-v1.5', created=1677610602, object='model', owned_by='openai'), Model(id='gte-large-en-v1.5', created=1677610602, object='model', owned_by='openai'), Model(id='codestral-22b', created=1677610602, object='model', owned_by='openai'), Model(id='nim-mistral-7b-instruct', created=1677610602, object='model', owned_by='openai'), Model(id='mistral-7b-instruct', created=1677610602, object='model', owned_by='openai'), Model(id='flux.1-schnell', created=1677610602, object='model', owned_by='openai'), Model(id='granite-3.1-8b-instruct', created=1677610602, object='model', owned_by='openai')], object='list')\n"
     ]
    }
   ],
   "source": [
    "# Check list of available models\n",
    "client = openai.OpenAI(\n",
    "    api_key=os.environ.get(\"TOOLKIT_API_KEY\"),\n",
    "    base_url=base_url\n",
    ")\n",
    "\n",
    "response = client.models.list()\n",
    " \n",
    "print(response)"
   ]
  },
  {
   "cell_type": "markdown",
   "id": "24f4cac6-0d83-4a2d-ae59-97c7dfba8a6e",
   "metadata": {},
   "source": [
    "## Get information about the key\n",
    "\n",
    "Use the API to get key information. Note that this code intentionally skipt printing the `key` part of the output for securit."
   ]
  },
  {
   "cell_type": "code",
   "execution_count": 4,
   "id": "ab7fa920-4a14-4c73-90ed-c395da6f57f3",
   "metadata": {},
   "outputs": [
    {
     "name": "stdout",
     "output_type": "stream",
     "text": [
      "{\n",
      "    \"key_name\": \"sk-...LbYQ\",\n",
      "    \"key_alias\": \"Matt_2024\",\n",
      "    \"soft_budget_cooldown\": false,\n",
      "    \"spend\": 0.003963,\n",
      "    \"expires\": \"2025-12-11T21:48:41.470000+00:00\",\n",
      "    \"models\": [\n",
      "        \"all-team-models\"\n",
      "    ],\n",
      "    \"aliases\": {},\n",
      "    \"config\": {},\n",
      "    \"user_id\": \"magitz@ufl.edu\",\n",
      "    \"team_id\": \"a2cc7649-8b8f-4441-88f1-7360c056adc7\",\n",
      "    \"permissions\": {},\n",
      "    \"max_parallel_requests\": null,\n",
      "    \"metadata\": {\n",
      "        \"tags\": null,\n",
      "        \"guardrails\": []\n",
      "    },\n",
      "    \"blocked\": null,\n",
      "    \"tpm_limit\": null,\n",
      "    \"rpm_limit\": null,\n",
      "    \"max_budget\": 5.0,\n",
      "    \"budget_duration\": \"30d\",\n",
      "    \"budget_reset_at\": \"2025-04-15T18:39:53.589000+00:00\",\n",
      "    \"allowed_cache_controls\": [],\n",
      "    \"model_spend\": {},\n",
      "    \"model_max_budget\": {},\n",
      "    \"budget_id\": null,\n",
      "    \"created_at\": \"2024-12-11T21:48:41.472000+00:00\",\n",
      "    \"updated_at\": \"2025-03-17T15:43:05.641000+00:00\",\n",
      "    \"litellm_budget_table\": null\n",
      "}\n"
     ]
    }
   ],
   "source": [
    "# Set up and run the curl command\n",
    "key_info_cmd=f\"curl -X 'GET' '{base_url}key/info?key={os.environ.get('TOOLKIT_API_KEY')}' -H 'accept: application/json' -H 'Authorization: Bearer {os.environ.get('TOOLKIT_API_KEY')}'\"\n",
    "result=subprocess.run(key_info_cmd, shell=True, stdout=subprocess.PIPE, stderr=subprocess.PIPE)\n",
    "\n",
    "# Parse the reply, printing the `info` part of the reply nicely \n",
    "if result.returncode != 0:\n",
    "    print(\"Error:\", result.stderr.decode('utf-8'))\n",
    "else:\n",
    "    response = result.stdout.decode('utf-8')\n",
    "    response_dict = json.loads(response)\n",
    "    \n",
    "    # Access the \"info\" section\n",
    "    info_section = response_dict.get('info', {})\n",
    "    \n",
    "    # Print or use the \"info\" section\n",
    "    print(json.dumps(info_section, indent=4))  # Pretty-print the \"info\" section"
   ]
  },
  {
   "cell_type": "code",
   "execution_count": 19,
   "id": "5b934f07-b9d5-4923-99e4-f233f0d986c8",
   "metadata": {},
   "outputs": [
    {
     "name": "stdout",
     "output_type": "stream",
     "text": [
      "You have spent: $0.003963 of the key's $5.00 monthly limit, leaving $4.996037 to spend this month.\n"
     ]
    }
   ],
   "source": [
    "print(f\"You have spent: ${info_section['spend']} of the key's ${info_section['max_budget']:.2f} monthly limit, leaving ${info_section['max_budget'] -info_section['spend']} to spend this month.\")"
   ]
  },
  {
   "cell_type": "code",
   "execution_count": null,
   "id": "72540ac6-1ffc-44ea-a2f5-c912c4247d6a",
   "metadata": {},
   "outputs": [],
   "source": []
  }
 ],
 "metadata": {
  "kernelspec": {
   "display_name": "nlp-1.3",
   "language": "python",
   "name": "nlp-1.3"
  },
  "language_info": {
   "codemirror_mode": {
    "name": "ipython",
    "version": 3
   },
   "file_extension": ".py",
   "mimetype": "text/x-python",
   "name": "python",
   "nbconvert_exporter": "python",
   "pygments_lexer": "ipython3",
   "version": "3.9.18"
  }
 },
 "nbformat": 4,
 "nbformat_minor": 5
}
